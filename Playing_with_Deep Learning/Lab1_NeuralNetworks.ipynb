{
  "nbformat": 4,
  "nbformat_minor": 0,
  "metadata": {
    "colab": {
      "name": "Lab1_NeuralNetworks.ipynb",
      "provenance": [],
      "collapsed_sections": []
    },
    "kernelspec": {
      "name": "python3",
      "display_name": "Python 3"
    },
    "accelerator": "GPU"
  },
  "cells": [
    {
      "cell_type": "code",
      "metadata": {
        "id": "SLYC31fNgE2C",
        "colab_type": "code",
        "colab": {}
      },
      "source": [
        "## LAB1 "
      ],
      "execution_count": 0,
      "outputs": []
    },
    {
      "cell_type": "markdown",
      "metadata": {
        "id": "xEYmMK1dgLod",
        "colab_type": "text"
      },
      "source": [
        ""
      ]
    },
    {
      "cell_type": "code",
      "metadata": {
        "id": "xz-bo3OZpIoM",
        "colab_type": "code",
        "colab": {}
      },
      "source": [
        "import pandas as pd\n",
        "import numpy as np\n",
        "import tensorflow as tf"
      ],
      "execution_count": 0,
      "outputs": []
    },
    {
      "cell_type": "markdown",
      "metadata": {
        "id": "JyupRX_Bf-0G",
        "colab_type": "text"
      },
      "source": [
        ""
      ]
    },
    {
      "cell_type": "code",
      "metadata": {
        "id": "RTed7moIpshN",
        "colab_type": "code",
        "colab": {}
      },
      "source": [
        "!pip install tensorflow==2.0.0"
      ],
      "execution_count": 0,
      "outputs": []
    },
    {
      "cell_type": "code",
      "metadata": {
        "id": "mo1jGKoovdAT",
        "colab_type": "code",
        "outputId": "c0f814ff-2784-4c79-d817-1ddb8ca043dd",
        "colab": {
          "base_uri": "https://localhost:8080/",
          "height": 34
        }
      },
      "source": [
        "tf.__version__"
      ],
      "execution_count": 0,
      "outputs": [
        {
          "output_type": "execute_result",
          "data": {
            "text/plain": [
              "'2.0.0'"
            ]
          },
          "metadata": {
            "tags": []
          },
          "execution_count": 3
        }
      ]
    },
    {
      "cell_type": "code",
      "metadata": {
        "id": "HGhDf4XfvdQ7",
        "colab_type": "code",
        "outputId": "6d313c9c-c300-459b-960e-28e5fdb1892f",
        "colab": {
          "base_uri": "https://localhost:8080/",
          "height": 34
        }
      },
      "source": [
        "tf.test.is_gpu_available()"
      ],
      "execution_count": 0,
      "outputs": [
        {
          "output_type": "execute_result",
          "data": {
            "text/plain": [
              "False"
            ]
          },
          "metadata": {
            "tags": []
          },
          "execution_count": 4
        }
      ]
    },
    {
      "cell_type": "code",
      "metadata": {
        "id": "ydQn3WvVw0BO",
        "colab_type": "code",
        "outputId": "7901319a-66aa-4451-c8b8-ef3f0bbe622a",
        "colab": {
          "base_uri": "https://localhost:8080/",
          "height": 50
        }
      },
      "source": [
        "np.random.rand(10)"
      ],
      "execution_count": 0,
      "outputs": [
        {
          "output_type": "execute_result",
          "data": {
            "text/plain": [
              "array([0.45598102, 0.62437498, 0.14794088, 0.81969842, 0.23518401,\n",
              "       0.89928061, 0.32976183, 0.34173847, 0.79706933, 0.40816184])"
            ]
          },
          "metadata": {
            "tags": []
          },
          "execution_count": 5
        }
      ]
    },
    {
      "cell_type": "code",
      "metadata": {
        "id": "FiwdT-HfxM_C",
        "colab_type": "code",
        "outputId": "a32b99c0-6eb3-4811-fa7b-1a4f60bfada1",
        "colab": {
          "base_uri": "https://localhost:8080/",
          "height": 67
        }
      },
      "source": [
        "A = np.random.randint(1,9,size=(3,3))\n",
        "A"
      ],
      "execution_count": 0,
      "outputs": [
        {
          "output_type": "execute_result",
          "data": {
            "text/plain": [
              "array([[7, 3, 8],\n",
              "       [8, 1, 6],\n",
              "       [7, 7, 8]])"
            ]
          },
          "metadata": {
            "tags": []
          },
          "execution_count": 6
        }
      ]
    },
    {
      "cell_type": "code",
      "metadata": {
        "id": "L9ioQj8pxPsR",
        "colab_type": "code",
        "outputId": "0cee6a75-32c6-45d9-ab0f-41b9a5c5957c",
        "colab": {
          "base_uri": "https://localhost:8080/",
          "height": 101
        }
      },
      "source": [
        "np.random.randint(4,15,size=(5,5))"
      ],
      "execution_count": 0,
      "outputs": [
        {
          "output_type": "execute_result",
          "data": {
            "text/plain": [
              "array([[12,  4, 13, 12, 10],\n",
              "       [ 9,  9, 11,  9,  5],\n",
              "       [ 6,  4, 11,  8, 10],\n",
              "       [ 5,  6,  9, 10,  9],\n",
              "       [ 9,  7,  7, 11,  6]])"
            ]
          },
          "metadata": {
            "tags": []
          },
          "execution_count": 7
        }
      ]
    },
    {
      "cell_type": "code",
      "metadata": {
        "id": "h4us7I9UxhYQ",
        "colab_type": "code",
        "outputId": "24680cf7-f661-427c-ec9c-ca23c0f6226e",
        "colab": {
          "base_uri": "https://localhost:8080/",
          "height": 118
        }
      },
      "source": [
        "B = tf.Variable(tf.ones((5,4),dtype=tf.int32))\n",
        "B"
      ],
      "execution_count": 0,
      "outputs": [
        {
          "output_type": "execute_result",
          "data": {
            "text/plain": [
              "<tf.Variable 'Variable:0' shape=(5, 4) dtype=int32, numpy=\n",
              "array([[1, 1, 1, 1],\n",
              "       [1, 1, 1, 1],\n",
              "       [1, 1, 1, 1],\n",
              "       [1, 1, 1, 1],\n",
              "       [1, 1, 1, 1]], dtype=int32)>"
            ]
          },
          "metadata": {
            "tags": []
          },
          "execution_count": 9
        }
      ]
    },
    {
      "cell_type": "code",
      "metadata": {
        "id": "siQgtg8gxVoC",
        "colab_type": "code",
        "outputId": "9800707b-d5cb-4bd5-f475-ad61fa3edc21",
        "colab": {
          "base_uri": "https://localhost:8080/",
          "height": 84
        }
      },
      "source": [
        "tf.random.normal((3,2))"
      ],
      "execution_count": 0,
      "outputs": [
        {
          "output_type": "execute_result",
          "data": {
            "text/plain": [
              "<tf.Tensor: id=5, shape=(3, 2), dtype=float32, numpy=\n",
              "array([[-1.0059379 , -0.01282078],\n",
              "       [ 1.2833046 , -0.83637846],\n",
              "       [ 0.88245237,  0.46418455]], dtype=float32)>"
            ]
          },
          "metadata": {
            "tags": []
          },
          "execution_count": 8
        }
      ]
    },
    {
      "cell_type": "code",
      "metadata": {
        "id": "KTnmEfJLjBt3",
        "colab_type": "code",
        "colab": {}
      },
      "source": [
        "tf."
      ],
      "execution_count": 0,
      "outputs": []
    },
    {
      "cell_type": "code",
      "metadata": {
        "colab_type": "code",
        "id": "TZ3J7cRMjGgd",
        "colab": {}
      },
      "source": [
        ""
      ],
      "execution_count": 0,
      "outputs": []
    },
    {
      "cell_type": "code",
      "metadata": {
        "colab_type": "code",
        "id": "1plQQ3msjGkv",
        "colab": {}
      },
      "source": [
        ""
      ],
      "execution_count": 0,
      "outputs": []
    },
    {
      "cell_type": "code",
      "metadata": {
        "colab_type": "code",
        "id": "nWYKHBKNjGsl",
        "colab": {}
      },
      "source": [
        ""
      ],
      "execution_count": 0,
      "outputs": []
    },
    {
      "cell_type": "code",
      "metadata": {
        "id": "w1GxZx5Cx7jj",
        "colab_type": "code",
        "outputId": "bc865c2c-3c44-405f-d25b-303beee68e6a",
        "colab": {
          "base_uri": "https://localhost:8080/",
          "height": 118
        }
      },
      "source": [
        "B = tf.cast(B,tf.float64)\n",
        "B"
      ],
      "execution_count": 0,
      "outputs": [
        {
          "output_type": "execute_result",
          "data": {
            "text/plain": [
              "<tf.Tensor: id=18, shape=(5, 4), dtype=float64, numpy=\n",
              "array([[1., 1., 1., 1.],\n",
              "       [1., 1., 1., 1.],\n",
              "       [1., 1., 1., 1.],\n",
              "       [1., 1., 1., 1.],\n",
              "       [1., 1., 1., 1.]])>"
            ]
          },
          "metadata": {
            "tags": []
          },
          "execution_count": 10
        }
      ]
    },
    {
      "cell_type": "code",
      "metadata": {
        "id": "ikrukZJiyhV7",
        "colab_type": "code",
        "outputId": "3edf6168-ade6-4bf0-f094-361f287b436a",
        "colab": {
          "base_uri": "https://localhost:8080/",
          "height": 101
        }
      },
      "source": [
        "B.numpy()"
      ],
      "execution_count": 0,
      "outputs": [
        {
          "output_type": "execute_result",
          "data": {
            "text/plain": [
              "array([[1., 1., 1., 1.],\n",
              "       [1., 1., 1., 1.],\n",
              "       [1., 1., 1., 1.],\n",
              "       [1., 1., 1., 1.],\n",
              "       [1., 1., 1., 1.]])"
            ]
          },
          "metadata": {
            "tags": []
          },
          "execution_count": 11
        }
      ]
    },
    {
      "cell_type": "code",
      "metadata": {
        "id": "QUkEO4Ivzdv9",
        "colab_type": "code",
        "outputId": "5de12c5b-e44d-4d78-ef73-417b8c017d9a",
        "colab": {
          "base_uri": "https://localhost:8080/",
          "height": 34
        }
      },
      "source": [
        "B.shape"
      ],
      "execution_count": 0,
      "outputs": [
        {
          "output_type": "execute_result",
          "data": {
            "text/plain": [
              "TensorShape([5, 4])"
            ]
          },
          "metadata": {
            "tags": []
          },
          "execution_count": 12
        }
      ]
    },
    {
      "cell_type": "code",
      "metadata": {
        "id": "R6PNT4IBl2dX",
        "colab_type": "code",
        "outputId": "af743969-fdd8-4c06-a0eb-8312520eb487",
        "colab": {
          "base_uri": "https://localhost:8080/",
          "height": 34
        }
      },
      "source": [
        "B[3]"
      ],
      "execution_count": 0,
      "outputs": [
        {
          "output_type": "execute_result",
          "data": {
            "text/plain": [
              "<tf.Tensor: id=26, shape=(4,), dtype=float64, numpy=array([1., 1., 1., 1.])>"
            ]
          },
          "metadata": {
            "tags": []
          },
          "execution_count": 15
        }
      ]
    },
    {
      "cell_type": "code",
      "metadata": {
        "id": "J7vvHHCAzf1m",
        "colab_type": "code",
        "outputId": "92444858-5316-4653-9517-af4c44616950",
        "colab": {
          "base_uri": "https://localhost:8080/",
          "height": 178
        }
      },
      "source": [
        "B = B[3].assign(10)\n",
        "B"
      ],
      "execution_count": 0,
      "outputs": [
        {
          "output_type": "error",
          "ename": "AttributeError",
          "evalue": "ignored",
          "traceback": [
            "\u001b[0;31m---------------------------------------------------------------------------\u001b[0m",
            "\u001b[0;31mAttributeError\u001b[0m                            Traceback (most recent call last)",
            "\u001b[0;32m<ipython-input-131-d0e9d6f73969>\u001b[0m in \u001b[0;36m<module>\u001b[0;34m()\u001b[0m\n\u001b[0;32m----> 1\u001b[0;31m \u001b[0mB\u001b[0m \u001b[0;34m=\u001b[0m \u001b[0mB\u001b[0m\u001b[0;34m[\u001b[0m\u001b[0;36m3\u001b[0m\u001b[0;34m]\u001b[0m\u001b[0;34m.\u001b[0m\u001b[0massign\u001b[0m\u001b[0;34m(\u001b[0m\u001b[0;36m10\u001b[0m\u001b[0;34m)\u001b[0m\u001b[0;34m\u001b[0m\u001b[0;34m\u001b[0m\u001b[0m\n\u001b[0m\u001b[1;32m      2\u001b[0m \u001b[0mB\u001b[0m\u001b[0;34m\u001b[0m\u001b[0;34m\u001b[0m\u001b[0m\n",
            "\u001b[0;31mAttributeError\u001b[0m: 'tensorflow.python.framework.ops.EagerTensor' object has no attribute 'assign'"
          ]
        }
      ]
    },
    {
      "cell_type": "code",
      "metadata": {
        "id": "D29pFcsWzlOd",
        "colab_type": "code",
        "outputId": "3ce93ac3-f18e-428c-e174-3755df8e5263",
        "colab": {
          "base_uri": "https://localhost:8080/",
          "height": 67
        }
      },
      "source": [
        "B[0:2,2:]"
      ],
      "execution_count": 0,
      "outputs": [
        {
          "output_type": "execute_result",
          "data": {
            "text/plain": [
              "<tf.Tensor: id=30, shape=(2, 2), dtype=float64, numpy=\n",
              "array([[1., 1.],\n",
              "       [1., 1.]])>"
            ]
          },
          "metadata": {
            "tags": []
          },
          "execution_count": 16
        }
      ]
    },
    {
      "cell_type": "code",
      "metadata": {
        "id": "PS790cS60HGT",
        "colab_type": "code",
        "outputId": "3798d6cc-20a9-4112-d1f9-0c58da9208b0",
        "colab": {
          "base_uri": "https://localhost:8080/",
          "height": 34
        }
      },
      "source": [
        "B[-1,3]"
      ],
      "execution_count": 0,
      "outputs": [
        {
          "output_type": "execute_result",
          "data": {
            "text/plain": [
              "<tf.Tensor: id=34, shape=(), dtype=float64, numpy=1.0>"
            ]
          },
          "metadata": {
            "tags": []
          },
          "execution_count": 17
        }
      ]
    },
    {
      "cell_type": "code",
      "metadata": {
        "id": "4M4y7ZfL0Qhi",
        "colab_type": "code",
        "outputId": "16079203-67db-49b2-b708-5cb1667bed52",
        "colab": {
          "base_uri": "https://localhost:8080/",
          "height": 34
        }
      },
      "source": [
        "A.sum(axis=1)"
      ],
      "execution_count": 0,
      "outputs": [
        {
          "output_type": "execute_result",
          "data": {
            "text/plain": [
              "array([18, 15, 22])"
            ]
          },
          "metadata": {
            "tags": []
          },
          "execution_count": 18
        }
      ]
    },
    {
      "cell_type": "code",
      "metadata": {
        "id": "J8sI8gw00mlW",
        "colab_type": "code",
        "outputId": "276416ba-6bf0-445e-862d-002404e18b24",
        "colab": {
          "base_uri": "https://localhost:8080/",
          "height": 34
        }
      },
      "source": [
        "tf.reduce_sum(B,axis=1)"
      ],
      "execution_count": 0,
      "outputs": [
        {
          "output_type": "execute_result",
          "data": {
            "text/plain": [
              "<tf.Tensor: id=56, shape=(5,), dtype=float64, numpy=array([4., 4., 4., 4., 4.])>"
            ]
          },
          "metadata": {
            "tags": []
          },
          "execution_count": 31
        }
      ]
    },
    {
      "cell_type": "code",
      "metadata": {
        "id": "cNq3E0F106Qn",
        "colab_type": "code",
        "outputId": "f2dd98b8-f74c-498c-9691-1330bf63fbd3",
        "colab": {
          "base_uri": "https://localhost:8080/",
          "height": 118
        }
      },
      "source": [
        "B * B"
      ],
      "execution_count": 0,
      "outputs": [
        {
          "output_type": "execute_result",
          "data": {
            "text/plain": [
              "<tf.Tensor: id=35, shape=(5, 4), dtype=float64, numpy=\n",
              "array([[1., 1., 1., 1.],\n",
              "       [1., 1., 1., 1.],\n",
              "       [1., 1., 1., 1.],\n",
              "       [1., 1., 1., 1.],\n",
              "       [1., 1., 1., 1.]])>"
            ]
          },
          "metadata": {
            "tags": []
          },
          "execution_count": 19
        }
      ]
    },
    {
      "cell_type": "code",
      "metadata": {
        "id": "So0UXyyC1N-s",
        "colab_type": "code",
        "outputId": "e2a471c1-0746-48e6-d128-cd09649ccb5f",
        "colab": {
          "base_uri": "https://localhost:8080/",
          "height": 101
        }
      },
      "source": [
        "tf.reshape(B,shape=(4,5))"
      ],
      "execution_count": 0,
      "outputs": [
        {
          "output_type": "execute_result",
          "data": {
            "text/plain": [
              "<tf.Tensor: id=59, shape=(4, 5), dtype=float64, numpy=\n",
              "array([[1., 1., 1., 1., 1.],\n",
              "       [1., 1., 1., 1., 1.],\n",
              "       [1., 1., 1., 1., 1.],\n",
              "       [1., 1., 1., 1., 1.]])>"
            ]
          },
          "metadata": {
            "tags": []
          },
          "execution_count": 33
        }
      ]
    },
    {
      "cell_type": "code",
      "metadata": {
        "id": "Dv6l_oqWtugK",
        "colab_type": "code",
        "outputId": "854e9f13-c99b-4145-b1ff-549d97172618",
        "colab": {
          "base_uri": "https://localhost:8080/",
          "height": 101
        }
      },
      "source": [
        "tf.reshape(B,shape=(4,5))"
      ],
      "execution_count": 0,
      "outputs": [
        {
          "output_type": "execute_result",
          "data": {
            "text/plain": [
              "<tf.Tensor: id=37, shape=(4, 5), dtype=float64, numpy=\n",
              "array([[1., 1., 1., 1., 1.],\n",
              "       [1., 1., 1., 1., 1.],\n",
              "       [1., 1., 1., 1., 1.],\n",
              "       [1., 1., 1., 1., 1.]])>"
            ]
          },
          "metadata": {
            "tags": []
          },
          "execution_count": 20
        }
      ]
    },
    {
      "cell_type": "code",
      "metadata": {
        "id": "_IOvQRl21tUe",
        "colab_type": "code",
        "colab": {}
      },
      "source": [
        "C = tf.random.uniform((3,))\n",
        "D = tf.random.uniform((2,3))"
      ],
      "execution_count": 0,
      "outputs": []
    },
    {
      "cell_type": "code",
      "metadata": {
        "id": "lmwxJZPUt8AO",
        "colab_type": "code",
        "outputId": "a9919f86-b6de-4cfe-b459-86e9666f80bb",
        "colab": {
          "base_uri": "https://localhost:8080/",
          "height": 34
        }
      },
      "source": [
        "C"
      ],
      "execution_count": 0,
      "outputs": [
        {
          "output_type": "execute_result",
          "data": {
            "text/plain": [
              "<tf.Tensor: id=44, shape=(3,), dtype=float32, numpy=array([0.41709065, 0.32836795, 0.4767561 ], dtype=float32)>"
            ]
          },
          "metadata": {
            "tags": []
          },
          "execution_count": 22
        }
      ]
    },
    {
      "cell_type": "code",
      "metadata": {
        "id": "rdbYK-bPt8XR",
        "colab_type": "code",
        "outputId": "a3b317ce-2b2f-4b52-b74a-6d99710f9800",
        "colab": {
          "base_uri": "https://localhost:8080/",
          "height": 67
        }
      },
      "source": [
        "D"
      ],
      "execution_count": 0,
      "outputs": [
        {
          "output_type": "execute_result",
          "data": {
            "text/plain": [
              "<tf.Tensor: id=51, shape=(2, 3), dtype=float32, numpy=\n",
              "array([[0.02552187, 0.8422252 , 0.9719231 ],\n",
              "       [0.6437079 , 0.45876026, 0.06402719]], dtype=float32)>"
            ]
          },
          "metadata": {
            "tags": []
          },
          "execution_count": 23
        }
      ]
    },
    {
      "cell_type": "code",
      "metadata": {
        "id": "8LfzNuxM3geS",
        "colab_type": "code",
        "outputId": "3177a6ae-a004-4ed6-ff3c-c9086961411e",
        "colab": {
          "base_uri": "https://localhost:8080/",
          "height": 67
        }
      },
      "source": [
        "C + D"
      ],
      "execution_count": 0,
      "outputs": [
        {
          "output_type": "execute_result",
          "data": {
            "text/plain": [
              "<tf.Tensor: id=108, shape=(2, 3), dtype=float32, numpy=\n",
              "array([[1.0177281, 0.8240355, 0.9631014],\n",
              "       [1.6107391, 1.1615729, 1.3583071]], dtype=float32)>"
            ]
          },
          "metadata": {
            "tags": []
          },
          "execution_count": 41
        }
      ]
    },
    {
      "cell_type": "code",
      "metadata": {
        "id": "KkdFVhnE30cQ",
        "colab_type": "code",
        "colab": {}
      },
      "source": [
        "E = tf.random.uniform((5,3,1))\n",
        "F = tf.random.uniform((1,3,4))"
      ],
      "execution_count": 0,
      "outputs": []
    },
    {
      "cell_type": "code",
      "metadata": {
        "id": "RYyB2eU2TIJZ",
        "colab_type": "code",
        "outputId": "4950250d-e859-4a6c-de91-9c1d8147d04b",
        "colab": {
          "base_uri": "https://localhost:8080/",
          "height": 353
        }
      },
      "source": [
        "E"
      ],
      "execution_count": 0,
      "outputs": [
        {
          "output_type": "execute_result",
          "data": {
            "text/plain": [
              "<tf.Tensor: id=6818, shape=(5, 3, 1), dtype=float32, numpy=\n",
              "array([[[0.89163995],\n",
              "        [0.452147  ],\n",
              "        [0.04462433]],\n",
              "\n",
              "       [[0.9749255 ],\n",
              "        [0.8055929 ],\n",
              "        [0.02615774]],\n",
              "\n",
              "       [[0.05269527],\n",
              "        [0.10379148],\n",
              "        [0.95057905]],\n",
              "\n",
              "       [[0.78125846],\n",
              "        [0.48791134],\n",
              "        [0.18722808]],\n",
              "\n",
              "       [[0.9360423 ],\n",
              "        [0.8659761 ],\n",
              "        [0.58351016]]], dtype=float32)>"
            ]
          },
          "metadata": {
            "tags": []
          },
          "execution_count": 137
        }
      ]
    },
    {
      "cell_type": "code",
      "metadata": {
        "id": "-43tw-xZTNgT",
        "colab_type": "code",
        "outputId": "32bcf87d-4bcd-4a45-88af-90cc83a043f9",
        "colab": {
          "base_uri": "https://localhost:8080/",
          "height": 84
        }
      },
      "source": [
        "F"
      ],
      "execution_count": 0,
      "outputs": [
        {
          "output_type": "execute_result",
          "data": {
            "text/plain": [
              "<tf.Tensor: id=65, shape=(1, 3, 4), dtype=float32, numpy=\n",
              "array([[[0.3684466 , 0.38538718, 0.6094334 , 0.67861056],\n",
              "        [0.7972162 , 0.6442975 , 0.9902605 , 0.22214937],\n",
              "        [0.9492384 , 0.03972399, 0.84174716, 0.9175104 ]]], dtype=float32)>"
            ]
          },
          "metadata": {
            "tags": []
          },
          "execution_count": 25
        }
      ]
    },
    {
      "cell_type": "code",
      "metadata": {
        "id": "g0ULeBzX4DdF",
        "colab_type": "code",
        "outputId": "6eb4d8d7-184a-4386-8a68-145f5abf6474",
        "colab": {
          "base_uri": "https://localhost:8080/",
          "height": 353
        }
      },
      "source": [
        "E + F"
      ],
      "execution_count": 0,
      "outputs": [
        {
          "output_type": "execute_result",
          "data": {
            "text/plain": [
              "<tf.Tensor: id=151, shape=(5, 3, 4), dtype=float32, numpy=\n",
              "array([[[1.0286335 , 0.85336864, 0.783545  , 0.44390297],\n",
              "        [0.6496266 , 1.4169772 , 1.2828565 , 0.85155284],\n",
              "        [0.6492094 , 0.75369155, 1.0739622 , 0.72156334]],\n",
              "\n",
              "       [[1.4828552 , 1.3075904 , 1.2377667 , 0.8981247 ],\n",
              "        [1.0980295 , 1.86538   , 1.7312593 , 1.2999557 ],\n",
              "        [0.9776788 , 1.082161  , 1.4024316 , 1.0500327 ]],\n",
              "\n",
              "       [[1.5899174 , 1.4146526 , 1.344829  , 1.0051869 ],\n",
              "        [1.0798609 , 1.8472115 , 1.7130908 , 1.2817872 ],\n",
              "        [0.3401699 , 0.44465208, 0.76492274, 0.41252387]],\n",
              "\n",
              "       [[0.723438  , 0.5481732 , 0.47834957, 0.13870752],\n",
              "        [0.9538528 , 1.7212033 , 1.5870826 , 1.155779  ],\n",
              "        [0.72868204, 0.8331642 , 1.1534349 , 0.801036  ]],\n",
              "\n",
              "       [[1.0438681 , 0.8686032 , 0.7987796 , 0.45913756],\n",
              "        [0.50798213, 1.2753327 , 1.141212  , 0.70990837],\n",
              "        [0.70235944, 0.8068416 , 1.1271123 , 0.7747134 ]]], dtype=float32)>"
            ]
          },
          "metadata": {
            "tags": []
          },
          "execution_count": 47
        }
      ]
    },
    {
      "cell_type": "code",
      "metadata": {
        "id": "uh6P2VFZ4Kkz",
        "colab_type": "code",
        "colab": {}
      },
      "source": [
        "def func(x):\n",
        "  return 2.0 * tf.cos(x)"
      ],
      "execution_count": 0,
      "outputs": []
    },
    {
      "cell_type": "code",
      "metadata": {
        "id": "6BbDtZsgTafm",
        "colab_type": "code",
        "colab": {}
      },
      "source": [
        "def funt(x):\n",
        "  return tf.sin(x)**2"
      ],
      "execution_count": 0,
      "outputs": []
    },
    {
      "cell_type": "code",
      "metadata": {
        "id": "tF4gkwCbTajB",
        "colab_type": "code",
        "colab": {}
      },
      "source": [
        "xx = np.linspace(-5,5,50)\n",
        "yy = funt(xx)"
      ],
      "execution_count": 0,
      "outputs": []
    },
    {
      "cell_type": "code",
      "metadata": {
        "id": "jrfjjZN6T3fR",
        "colab_type": "code",
        "outputId": "6e4174fd-3d16-49f9-cb91-89cdad47d91b",
        "colab": {
          "base_uri": "https://localhost:8080/",
          "height": 286
        }
      },
      "source": [
        "plt.plot(xx,yy)"
      ],
      "execution_count": 0,
      "outputs": [
        {
          "output_type": "execute_result",
          "data": {
            "text/plain": [
              "[<matplotlib.lines.Line2D at 0x7f071482eeb8>]"
            ]
          },
          "metadata": {
            "tags": []
          },
          "execution_count": 151
        },
        {
          "output_type": "display_data",
          "data": {
            "image/png": "[encoded data removed]",
            "text/plain": [
              "<Figure size 432x288 with 1 Axes>"
            ]
          },
          "metadata": {
            "tags": []
          }
        }
      ]
    },
    {
      "cell_type": "code",
      "metadata": {
        "id": "S5r9l5aXT3lV",
        "colab_type": "code",
        "colab": {}
      },
      "source": [
        ""
      ],
      "execution_count": 0,
      "outputs": []
    },
    {
      "cell_type": "code",
      "metadata": {
        "id": "10VfVLFFT3id",
        "colab_type": "code",
        "colab": {}
      },
      "source": [
        ""
      ],
      "execution_count": 0,
      "outputs": []
    },
    {
      "cell_type": "code",
      "metadata": {
        "id": "JGCOBiCe5AW5",
        "colab_type": "code",
        "colab": {}
      },
      "source": [
        "x_range = np.linspace(0,5,100)\n",
        "y_range = func(x_range)"
      ],
      "execution_count": 0,
      "outputs": []
    },
    {
      "cell_type": "code",
      "metadata": {
        "id": "-jALk27G5ekH",
        "colab_type": "code",
        "colab": {}
      },
      "source": [
        "import matplotlib.pyplot as plt"
      ],
      "execution_count": 0,
      "outputs": []
    },
    {
      "cell_type": "code",
      "metadata": {
        "id": "ULQeIjq25kB4",
        "colab_type": "code",
        "outputId": "4bbd17f0-3ca7-4b2f-a78e-b2f2f7d06f81",
        "colab": {
          "base_uri": "https://localhost:8080/",
          "height": 286
        }
      },
      "source": [
        "plt.plot(x_range,y_range)"
      ],
      "execution_count": 0,
      "outputs": [
        {
          "output_type": "execute_result",
          "data": {
            "text/plain": [
              "[<matplotlib.lines.Line2D at 0x7f0714d67b70>]"
            ]
          },
          "metadata": {
            "tags": []
          },
          "execution_count": 86
        },
        {
          "output_type": "display_data",
          "data": {
            "image/png": "[encoded data removed]",
            "text/plain": [
              "<Figure size 432x288 with 1 Axes>"
            ]
          },
          "metadata": {
            "tags": []
          }
        }
      ]
    },
    {
      "cell_type": "code",
      "metadata": {
        "id": "6i2Ok4t07jZu",
        "colab_type": "code",
        "colab": {}
      },
      "source": [
        "x = tf.constant(1.0)"
      ],
      "execution_count": 0,
      "outputs": []
    },
    {
      "cell_type": "code",
      "metadata": {
        "id": "IUKUxncD5n6w",
        "colab_type": "code",
        "outputId": "81e10c7b-aa95-4517-f507-13a065b0a064",
        "colab": {
          "base_uri": "https://localhost:8080/",
          "height": 34
        }
      },
      "source": [
        " with tf.GradientTape() as tape:\n",
        "   tape.watch(x)\n",
        "   y = func(x)\n",
        " \n",
        " tape.gradient(y,x)\n"
      ],
      "execution_count": 0,
      "outputs": [
        {
          "output_type": "execute_result",
          "data": {
            "text/plain": [
              "<tf.Tensor: id=275, shape=(), dtype=float32, numpy=-1.6829419>"
            ]
          },
          "metadata": {
            "tags": []
          },
          "execution_count": 66
        }
      ]
    },
    {
      "cell_type": "code",
      "metadata": {
        "id": "dn1Xi9_08XJ8",
        "colab_type": "code",
        "outputId": "31d2b0c4-e061-4b6b-ec02-bbd91ec639c4",
        "colab": {
          "base_uri": "https://localhost:8080/",
          "height": 34
        }
      },
      "source": [
        "-2.0*tf.sin(x)"
      ],
      "execution_count": 0,
      "outputs": [
        {
          "output_type": "execute_result",
          "data": {
            "text/plain": [
              "<tf.Tensor: id=278, shape=(), dtype=float32, numpy=-1.6829419>"
            ]
          },
          "metadata": {
            "tags": []
          },
          "execution_count": 67
        }
      ]
    },
    {
      "cell_type": "code",
      "metadata": {
        "id": "GOA-bhSY8tcW",
        "colab_type": "code",
        "outputId": "5afbd3ab-1e78-46b8-dbc8-8b3dea93a52a",
        "colab": {
          "base_uri": "https://localhost:8080/",
          "height": 279
        }
      },
      "source": [
        "tape.gradient(y,x)"
      ],
      "execution_count": 0,
      "outputs": [
        {
          "output_type": "error",
          "ename": "RuntimeError",
          "evalue": "ignored",
          "traceback": [
            "\u001b[0;31m---------------------------------------------------------------------------\u001b[0m",
            "\u001b[0;31mRuntimeError\u001b[0m                              Traceback (most recent call last)",
            "\u001b[0;32m<ipython-input-68-18aae49cdbe4>\u001b[0m in \u001b[0;36m<module>\u001b[0;34m()\u001b[0m\n\u001b[0;32m----> 1\u001b[0;31m \u001b[0mtape\u001b[0m\u001b[0;34m.\u001b[0m\u001b[0mgradient\u001b[0m\u001b[0;34m(\u001b[0m\u001b[0my\u001b[0m\u001b[0;34m,\u001b[0m\u001b[0mx\u001b[0m\u001b[0;34m)\u001b[0m\u001b[0;34m\u001b[0m\u001b[0;34m\u001b[0m\u001b[0m\n\u001b[0m",
            "\u001b[0;32m/usr/local/lib/python3.6/dist-packages/tensorflow_core/python/eager/backprop.py\u001b[0m in \u001b[0;36mgradient\u001b[0;34m(self, target, sources, output_gradients, unconnected_gradients)\u001b[0m\n\u001b[1;32m    963\u001b[0m     \"\"\"\n\u001b[1;32m    964\u001b[0m     \u001b[0;32mif\u001b[0m \u001b[0mself\u001b[0m\u001b[0;34m.\u001b[0m\u001b[0m_tape\u001b[0m \u001b[0;32mis\u001b[0m \u001b[0;32mNone\u001b[0m\u001b[0;34m:\u001b[0m\u001b[0;34m\u001b[0m\u001b[0;34m\u001b[0m\u001b[0m\n\u001b[0;32m--> 965\u001b[0;31m       raise RuntimeError(\"GradientTape.gradient can only be called once on \"\n\u001b[0m\u001b[1;32m    966\u001b[0m                          \"non-persistent tapes.\")\n\u001b[1;32m    967\u001b[0m     \u001b[0;32mif\u001b[0m \u001b[0mself\u001b[0m\u001b[0;34m.\u001b[0m\u001b[0m_recording\u001b[0m\u001b[0;34m:\u001b[0m\u001b[0;34m\u001b[0m\u001b[0;34m\u001b[0m\u001b[0m\n",
            "\u001b[0;31mRuntimeError\u001b[0m: GradientTape.gradient can only be called once on non-persistent tapes."
          ]
        }
      ]
    },
    {
      "cell_type": "code",
      "metadata": {
        "id": "LDCCowyZCsvn",
        "colab_type": "code",
        "outputId": "4981d2bb-a9df-49cc-fd3f-c22138ad95c5",
        "colab": {
          "base_uri": "https://localhost:8080/",
          "height": 84
        }
      },
      "source": [
        "x = tf.random.uniform((3,2))\n",
        "x"
      ],
      "execution_count": 0,
      "outputs": [
        {
          "output_type": "execute_result",
          "data": {
            "text/plain": [
              "<tf.Tensor: id=6961, shape=(3, 2), dtype=float32, numpy=\n",
              "array([[0.77657723, 0.03458989],\n",
              "       [0.03641677, 0.5140276 ],\n",
              "       [0.12909722, 0.92563117]], dtype=float32)>"
            ]
          },
          "metadata": {
            "tags": []
          },
          "execution_count": 152
        }
      ]
    },
    {
      "cell_type": "code",
      "metadata": {
        "id": "W1COiD89UvAL",
        "colab_type": "code",
        "outputId": "ae72b8ed-2075-41b6-8fbd-952d9e4206e3",
        "colab": {
          "base_uri": "https://localhost:8080/",
          "height": 84
        }
      },
      "source": [
        "x = tf.Variable(x)\n",
        "print(x)"
      ],
      "execution_count": 0,
      "outputs": [
        {
          "output_type": "stream",
          "text": [
            "<tf.Variable 'Variable:0' shape=(3, 2) dtype=float32, numpy=\n",
            "array([[0.77657723, 0.03458989],\n",
            "       [0.03641677, 0.5140276 ],\n",
            "       [0.12909722, 0.92563117]], dtype=float32)>\n"
          ],
          "name": "stdout"
        }
      ]
    },
    {
      "cell_type": "code",
      "metadata": {
        "id": "In7G3IPaUvEI",
        "colab_type": "code",
        "outputId": "333898cb-a963-4a58-a327-c092c62044f8",
        "colab": {
          "base_uri": "https://localhost:8080/",
          "height": 168
        }
      },
      "source": [
        "with tf.GradientTape() as tape:\n",
        "  y = funt(x)\n",
        "  print(y)\n",
        "  z =tf.reduce_sum(y)\n",
        "  print(z)\n",
        "S = tape.gradient(z,[x])\n",
        "print(S)"
      ],
      "execution_count": 0,
      "outputs": [
        {
          "output_type": "stream",
          "text": [
            "tf.Tensor(\n",
            "[[0.49117956 0.00119598]\n",
            " [0.00132559 0.24175742]\n",
            " [0.01657371 0.6384017 ]], shape=(3, 2), dtype=float32)\n",
            "tf.Tensor(1.390434, shape=(), dtype=float32)\n",
            "[<tf.Tensor: id=6985, shape=(3, 2), dtype=float32, numpy=\n",
            "array([[0.9998444 , 0.06912461],\n",
            "       [0.07276916, 0.8562961 ],\n",
            "       [0.25533527, 0.96092653]], dtype=float32)>]\n"
          ],
          "name": "stdout"
        }
      ]
    },
    {
      "cell_type": "code",
      "metadata": {
        "id": "NqJNoZzUVlEV",
        "colab_type": "code",
        "colab": {}
      },
      "source": [
        "plt.plot(S)"
      ],
      "execution_count": 0,
      "outputs": []
    },
    {
      "cell_type": "code",
      "metadata": {
        "id": "BP_mBFjYVlBY",
        "colab_type": "code",
        "colab": {}
      },
      "source": [
        ""
      ],
      "execution_count": 0,
      "outputs": []
    },
    {
      "cell_type": "code",
      "metadata": {
        "id": "aB4Nll9HDrUh",
        "colab_type": "code",
        "outputId": "a69f0c8d-4468-426d-8399-9b12b4059963",
        "colab": {
          "base_uri": "https://localhost:8080/",
          "height": 84
        }
      },
      "source": [
        "with tf.GradientTape() as tape:\n",
        "  y = func(x)\n",
        "  z = tf.reduce_sum(y)\n",
        "\n",
        "S = tape.gradient(z,[x])\n",
        "S\n"
      ],
      "execution_count": 0,
      "outputs": [
        {
          "output_type": "execute_result",
          "data": {
            "text/plain": [
              "[<tf.Tensor: id=313, shape=(3, 2), dtype=float32, numpy=\n",
              " array([[-0.44943148, -0.03585099],\n",
              "        [-1.3865118 , -1.2326322 ],\n",
              "        [-1.0208775 , -0.41714862]], dtype=float32)>]"
            ]
          },
          "metadata": {
            "tags": []
          },
          "execution_count": 71
        }
      ]
    },
    {
      "cell_type": "code",
      "metadata": {
        "id": "G5KI-ua7EA31",
        "colab_type": "code",
        "outputId": "111b3a63-b6e9-4950-d038-5603f414ca3c",
        "colab": {
          "base_uri": "https://localhost:8080/",
          "height": 84
        }
      },
      "source": [
        "S"
      ],
      "execution_count": 0,
      "outputs": [
        {
          "output_type": "execute_result",
          "data": {
            "text/plain": [
              "[<tf.Tensor: id=313, shape=(3, 2), dtype=float32, numpy=\n",
              " array([[-0.44943148, -0.03585099],\n",
              "        [-1.3865118 , -1.2326322 ],\n",
              "        [-1.0208775 , -0.41714862]], dtype=float32)>]"
            ]
          },
          "metadata": {
            "tags": []
          },
          "execution_count": 72
        }
      ]
    },
    {
      "cell_type": "code",
      "metadata": {
        "id": "LO7bDV8bEOPV",
        "colab_type": "code",
        "colab": {}
      },
      "source": [
        ""
      ],
      "execution_count": 0,
      "outputs": []
    },
    {
      "cell_type": "markdown",
      "metadata": {
        "id": "WJtbKENFEfOo",
        "colab_type": "text"
      },
      "source": [
        "### GRADIENT DESCENT"
      ]
    },
    {
      "cell_type": "markdown",
      "metadata": {
        "id": "ecHbmDVBEdb7",
        "colab_type": "text"
      },
      "source": [
        ""
      ]
    },
    {
      "cell_type": "code",
      "metadata": {
        "id": "iyw-LpQSEheN",
        "colab_type": "code",
        "outputId": "d625d13b-dedb-4c3d-edae-aa978079f660",
        "colab": {
          "base_uri": "https://localhost:8080/",
          "height": 279
        }
      },
      "source": [
        "x = tf.Variable(tf.ones(1))\n",
        "print(type(x))\n",
        "for i in range(50):\n",
        "  with tf.GradientTape() as tape:\n",
        "    y =func(x)\n",
        "    print(type(y))\n",
        "  g = tape.gradient(y,x)\n",
        "  print(type(g))\n",
        "  x = x - 0.01*g"
      ],
      "execution_count": 0,
      "outputs": [
        {
          "output_type": "stream",
          "text": [
            "<class 'tensorflow.python.ops.resource_variable_ops.ResourceVariable'>\n",
            "<class 'tensorflow.python.framework.ops.EagerTensor'>\n",
            "<class 'tensorflow.python.framework.ops.EagerTensor'>\n",
            "<class 'tensorflow.python.framework.ops.EagerTensor'>\n",
            "<class 'NoneType'>\n"
          ],
          "name": "stdout"
        },
        {
          "output_type": "error",
          "ename": "TypeError",
          "evalue": "ignored",
          "traceback": [
            "\u001b[0;31m---------------------------------------------------------------------------\u001b[0m",
            "\u001b[0;31mTypeError\u001b[0m                                 Traceback (most recent call last)",
            "\u001b[0;32m<ipython-input-159-08a6b1cc464b>\u001b[0m in \u001b[0;36m<module>\u001b[0;34m()\u001b[0m\n\u001b[1;32m      7\u001b[0m   \u001b[0mg\u001b[0m \u001b[0;34m=\u001b[0m \u001b[0mtape\u001b[0m\u001b[0;34m.\u001b[0m\u001b[0mgradient\u001b[0m\u001b[0;34m(\u001b[0m\u001b[0my\u001b[0m\u001b[0;34m,\u001b[0m\u001b[0mx\u001b[0m\u001b[0;34m)\u001b[0m\u001b[0;34m\u001b[0m\u001b[0;34m\u001b[0m\u001b[0m\n\u001b[1;32m      8\u001b[0m   \u001b[0mprint\u001b[0m\u001b[0;34m(\u001b[0m\u001b[0mtype\u001b[0m\u001b[0;34m(\u001b[0m\u001b[0mg\u001b[0m\u001b[0;34m)\u001b[0m\u001b[0;34m)\u001b[0m\u001b[0;34m\u001b[0m\u001b[0;34m\u001b[0m\u001b[0m\n\u001b[0;32m----> 9\u001b[0;31m   \u001b[0mx\u001b[0m \u001b[0;34m=\u001b[0m \u001b[0mx\u001b[0m \u001b[0;34m-\u001b[0m \u001b[0;36m0.01\u001b[0m\u001b[0;34m*\u001b[0m\u001b[0mg\u001b[0m\u001b[0;34m\u001b[0m\u001b[0;34m\u001b[0m\u001b[0m\n\u001b[0m",
            "\u001b[0;31mTypeError\u001b[0m: unsupported operand type(s) for *: 'float' and 'NoneType'"
          ]
        }
      ]
    },
    {
      "cell_type": "markdown",
      "metadata": {
        "id": "2Gg5rYsqFnPH",
        "colab_type": "text"
      },
      "source": [
        "The error is be , we start with variabe abd after gradient is applied the result becomes a tensor, for second iteration it is a tensor and not variable anymore thats why the error,the solution is wen we want to add or sub use the methods  *x.assign*"
      ]
    },
    {
      "cell_type": "code",
      "metadata": {
        "id": "MZx8YrwrFebM",
        "colab_type": "code",
        "outputId": "d19d302d-e1a8-4b3c-8f1c-8e43ad2fab76",
        "colab": {
          "base_uri": "https://localhost:8080/",
          "height": 134
        }
      },
      "source": [
        "x = tf.Variable(tf.ones(1))\n",
        "print(type(x))\n",
        "for i in range(5):\n",
        "  with tf.GradientTape() as tape:\n",
        "    y =func(x)\n",
        "    print(type(y))\n",
        "  g = tape.gradient(y,x)\n",
        "  print(type(g))\n",
        "  x.assign_sub(0.01*g)"
      ],
      "execution_count": 0,
      "outputs": [
        {
          "output_type": "stream",
          "text": [
            "<class 'tensorflow.python.ops.resource_variable_ops.ResourceVariable'>\n",
            "<class 'tensorflow.python.framework.ops.EagerTensor'>\n",
            "<class 'tensorflow.python.framework.ops.EagerTensor'>\n",
            "<class 'tensorflow.python.framework.ops.EagerTensor'>\n",
            "<class 'tensorflow.python.framework.ops.EagerTensor'>\n",
            "<class 'tensorflow.python.framework.ops.EagerTensor'>\n",
            "<class 'tensorflow.python.framework.ops.EagerTensor'>\n"
          ],
          "name": "stdout"
        }
      ]
    },
    {
      "cell_type": "code",
      "metadata": {
        "id": "h_lvvP1oGXpP",
        "colab_type": "code",
        "outputId": "f0393a01-9be6-4f27-e5aa-6de80e680cfe",
        "colab": {
          "base_uri": "https://localhost:8080/",
          "height": 34
        }
      },
      "source": [
        "x"
      ],
      "execution_count": 0,
      "outputs": [
        {
          "output_type": "execute_result",
          "data": {
            "text/plain": [
              "<tf.Variable 'Variable:0' shape=(1,) dtype=float32, numpy=array([1.9553728], dtype=float32)>"
            ]
          },
          "metadata": {
            "tags": []
          },
          "execution_count": 78
        }
      ]
    },
    {
      "cell_type": "code",
      "metadata": {
        "id": "E1kPo7zyGukl",
        "colab_type": "code",
        "outputId": "94aa4ae0-65e2-4ad8-f141-fff06920c80c",
        "colab": {
          "base_uri": "https://localhost:8080/",
          "height": 1000
        }
      },
      "source": [
        "x = tf.Variable(tf.ones(1))\n",
        "x_hist = []\n",
        "y_hist = []\n",
        "g_hist = []\n",
        "for i in range(50):\n",
        "  with tf.GradientTape() as tape:\n",
        "    y =func(x)\n",
        "    print('The value of y is ',y)\n",
        "    x_hist.append(x.numpy())\n",
        "    y_hist.append(y.numpy())\n",
        "  g = tape.gradient(y,x)\n",
        "  print('The gradient is ',g)\n",
        "  g_hist.append(g.numpy())\n",
        "  x.assign_sub(0.01*g)"
      ],
      "execution_count": 0,
      "outputs": [
        {
          "output_type": "stream",
          "text": [
            "The value of y is  tf.Tensor([1.0806046], shape=(1,), dtype=float32)\n",
            "The gradient is  tf.Tensor([-1.6829419], shape=(1,), dtype=float32)\n",
            "The value of y is  tf.Tensor([1.0521301], shape=(1,), dtype=float32)\n",
            "The gradient is  tf.Tensor([-1.7008886], shape=(1,), dtype=float32)\n",
            "The value of y is  tf.Tensor([1.023049], shape=(1,), dtype=float32)\n",
            "The gradient is  tf.Tensor([-1.7185373], shape=(1,), dtype=float32)\n",
            "The value of y is  tf.Tensor([0.99336576], shape=(1,), dtype=float32)\n",
            "The gradient is  tf.Tensor([-1.7358642], shape=(1,), dtype=float32)\n",
            "The value of y is  tf.Tensor([0.96308535], shape=(1,), dtype=float32)\n",
            "The gradient is  tf.Tensor([-1.7528453], shape=(1,), dtype=float32)\n",
            "The value of y is  tf.Tensor([0.9322144], shape=(1,), dtype=float32)\n",
            "The gradient is  tf.Tensor([-1.7694565], shape=(1,), dtype=float32)\n",
            "The value of y is  tf.Tensor([0.9007603], shape=(1,), dtype=float32)\n",
            "The gradient is  tf.Tensor([-1.7856739], shape=(1,), dtype=float32)\n",
            "The value of y is  tf.Tensor([0.8687321], shape=(1,), dtype=float32)\n",
            "The gradient is  tf.Tensor([-1.8014729], shape=(1,), dtype=float32)\n",
            "The value of y is  tf.Tensor([0.83613974], shape=(1,), dtype=float32)\n",
            "The gradient is  tf.Tensor([-1.8168298], shape=(1,), dtype=float32)\n",
            "The value of y is  tf.Tensor([0.8029948], shape=(1,), dtype=float32)\n",
            "The gradient is  tf.Tensor([-1.8317204], shape=(1,), dtype=float32)\n",
            "The value of y is  tf.Tensor([0.76930994], shape=(1,), dtype=float32)\n",
            "The gradient is  tf.Tensor([-1.8461208], shape=(1,), dtype=float32)\n",
            "The value of y is  tf.Tensor([0.73509914], shape=(1,), dtype=float32)\n",
            "The gradient is  tf.Tensor([-1.8600079], shape=(1,), dtype=float32)\n",
            "The value of y is  tf.Tensor([0.7003776], shape=(1,), dtype=float32)\n",
            "The gradient is  tf.Tensor([-1.8733582], shape=(1,), dtype=float32)\n",
            "The value of y is  tf.Tensor([0.66516197], shape=(1,), dtype=float32)\n",
            "The gradient is  tf.Tensor([-1.8861494], shape=(1,), dtype=float32)\n",
            "The value of y is  tf.Tensor([0.6294701], shape=(1,), dtype=float32)\n",
            "The gradient is  tf.Tensor([-1.8983592], shape=(1,), dtype=float32)\n",
            "The value of y is  tf.Tensor([0.59332114], shape=(1,), dtype=float32)\n",
            "The gradient is  tf.Tensor([-1.909966], shape=(1,), dtype=float32)\n",
            "The value of y is  tf.Tensor([0.55673534], shape=(1,), dtype=float32)\n",
            "The gradient is  tf.Tensor([-1.9209492], shape=(1,), dtype=float32)\n",
            "The value of y is  tf.Tensor([0.51973444], shape=(1,), dtype=float32)\n",
            "The gradient is  tf.Tensor([-1.9312887], shape=(1,), dtype=float32)\n",
            "The value of y is  tf.Tensor([0.4823411], shape=(1,), dtype=float32)\n",
            "The gradient is  tf.Tensor([-1.9409655], shape=(1,), dtype=float32)\n",
            "The value of y is  tf.Tensor([0.44457915], shape=(1,), dtype=float32)\n",
            "The gradient is  tf.Tensor([-1.9499614], shape=(1,), dtype=float32)\n",
            "The value of y is  tf.Tensor([0.40647346], shape=(1,), dtype=float32)\n",
            "The gradient is  tf.Tensor([-1.9582592], shape=(1,), dtype=float32)\n",
            "The value of y is  tf.Tensor([0.36805013], shape=(1,), dtype=float32)\n",
            "The gradient is  tf.Tensor([-1.9658431], shape=(1,), dtype=float32)\n",
            "The value of y is  tf.Tensor([0.32933608], shape=(1,), dtype=float32)\n",
            "The gradient is  tf.Tensor([-1.9726981], shape=(1,), dtype=float32)\n",
            "The value of y is  tf.Tensor([0.2903591], shape=(1,), dtype=float32)\n",
            "The gradient is  tf.Tensor([-1.9788107], shape=(1,), dtype=float32)\n",
            "The value of y is  tf.Tensor([0.25114784], shape=(1,), dtype=float32)\n",
            "The gradient is  tf.Tensor([-1.9841685], shape=(1,), dtype=float32)\n",
            "The value of y is  tf.Tensor([0.21173176], shape=(1,), dtype=float32)\n",
            "The gradient is  tf.Tensor([-1.9887608], shape=(1,), dtype=float32)\n",
            "The value of y is  tf.Tensor([0.17214088], shape=(1,), dtype=float32)\n",
            "The gradient is  tf.Tensor([-1.9925781], shape=(1,), dtype=float32)\n",
            "The value of y is  tf.Tensor([0.13240556], shape=(1,), dtype=float32)\n",
            "The gradient is  tf.Tensor([-1.9956124], shape=(1,), dtype=float32)\n",
            "The value of y is  tf.Tensor([0.09255718], shape=(1,), dtype=float32)\n",
            "The gradient is  tf.Tensor([-1.9978571], shape=(1,), dtype=float32)\n",
            "The value of y is  tf.Tensor([0.05262712], shape=(1,), dtype=float32)\n",
            "The gradient is  tf.Tensor([-1.9993075], shape=(1,), dtype=float32)\n",
            "The value of y is  tf.Tensor([0.01264698], shape=(1,), dtype=float32)\n",
            "The gradient is  tf.Tensor([-1.9999601], shape=(1,), dtype=float32)\n",
            "The value of y is  tf.Tensor([-0.02735133], shape=(1,), dtype=float32)\n",
            "The gradient is  tf.Tensor([-1.999813], shape=(1,), dtype=float32)\n",
            "The value of y is  tf.Tensor([-0.0673356], shape=(1,), dtype=float32)\n",
            "The gradient is  tf.Tensor([-1.9988662], shape=(1,), dtype=float32)\n",
            "The value of y is  tf.Tensor([-0.10727414], shape=(1,), dtype=float32)\n",
            "The gradient is  tf.Tensor([-1.997121], shape=(1,), dtype=float32)\n",
            "The value of y is  tf.Tensor([-0.1471351], shape=(1,), dtype=float32)\n",
            "The gradient is  tf.Tensor([-1.9945805], shape=(1,), dtype=float32)\n",
            "The value of y is  tf.Tensor([-0.18688682], shape=(1,), dtype=float32)\n",
            "The gradient is  tf.Tensor([-1.9912492], shape=(1,), dtype=float32)\n",
            "The value of y is  tf.Tensor([-0.22649786], shape=(1,), dtype=float32)\n",
            "The gradient is  tf.Tensor([-1.9871333], shape=(1,), dtype=float32)\n",
            "The value of y is  tf.Tensor([-0.26593757], shape=(1,), dtype=float32)\n",
            "The gradient is  tf.Tensor([-1.9822404], shape=(1,), dtype=float32)\n",
            "The value of y is  tf.Tensor([-0.30517542], shape=(1,), dtype=float32)\n",
            "The gradient is  tf.Tensor([-1.9765799], shape=(1,), dtype=float32)\n",
            "The value of y is  tf.Tensor([-0.34418207], shape=(1,), dtype=float32)\n",
            "The gradient is  tf.Tensor([-1.9701622], shape=(1,), dtype=float32)\n",
            "The value of y is  tf.Tensor([-0.3829281], shape=(1,), dtype=float32)\n",
            "The gradient is  tf.Tensor([-1.9629992], shape=(1,), dtype=float32)\n",
            "The value of y is  tf.Tensor([-0.42138544], shape=(1,), dtype=float32)\n",
            "The gradient is  tf.Tensor([-1.9551047], shape=(1,), dtype=float32)\n",
            "The value of y is  tf.Tensor([-0.4595268], shape=(1,), dtype=float32)\n",
            "The gradient is  tf.Tensor([-1.946493], shape=(1,), dtype=float32)\n",
            "The value of y is  tf.Tensor([-0.49732578], shape=(1,), dtype=float32)\n",
            "The gradient is  tf.Tensor([-1.9371802], shape=(1,), dtype=float32)\n",
            "The value of y is  tf.Tensor([-0.5347567], shape=(1,), dtype=float32)\n",
            "The gradient is  tf.Tensor([-1.9271833], shape=(1,), dtype=float32)\n",
            "The value of y is  tf.Tensor([-0.57179546], shape=(1,), dtype=float32)\n",
            "The gradient is  tf.Tensor([-1.9165202], shape=(1,), dtype=float32)\n",
            "The value of y is  tf.Tensor([-0.60841864], shape=(1,), dtype=float32)\n",
            "The gradient is  tf.Tensor([-1.9052104], shape=(1,), dtype=float32)\n",
            "The value of y is  tf.Tensor([-0.6446044], shape=(1,), dtype=float32)\n",
            "The gradient is  tf.Tensor([-1.8932737], shape=(1,), dtype=float32)\n",
            "The value of y is  tf.Tensor([-0.68033147], shape=(1,), dtype=float32)\n",
            "The gradient is  tf.Tensor([-1.880731], shape=(1,), dtype=float32)\n",
            "The value of y is  tf.Tensor([-0.7155805], shape=(1,), dtype=float32)\n",
            "The gradient is  tf.Tensor([-1.8676039], shape=(1,), dtype=float32)\n"
          ],
          "name": "stdout"
        }
      ]
    },
    {
      "cell_type": "code",
      "metadata": {
        "id": "fscNnkobHOq-",
        "colab_type": "code",
        "outputId": "1b831e8b-8969-4778-950b-6e4071af8c7a",
        "colab": {
          "base_uri": "https://localhost:8080/",
          "height": 314
        }
      },
      "source": [
        "#plt.subplot(211)\n",
        "plt.plot(x_range,y_range)\n",
        "plt.title('Initial Graph')\n",
        "#plt.subplot(212)\n",
        "#plt.figure(figsize=(15,7))\n",
        "plt.plot(x_hist,func(x_hist),'o')\n",
        "plt.legend()\n",
        "plt.title('Gradient Descent for Each Step Size')"
      ],
      "execution_count": 0,
      "outputs": [
        {
          "output_type": "stream",
          "text": [
            "No handles with labels found to put in legend.\n"
          ],
          "name": "stderr"
        },
        {
          "output_type": "execute_result",
          "data": {
            "text/plain": [
              "Text(0.5, 1.0, 'Gradient Descent for Each Step Size')"
            ]
          },
          "metadata": {
            "tags": []
          },
          "execution_count": 167
        },
        {
          "output_type": "display_data",
          "data": {
            "image/png": "[encoded data removed]",
            "text/plain": [
              "<Figure size 432x288 with 1 Axes>"
            ]
          },
          "metadata": {
            "tags": []
          }
        }
      ]
    },
    {
      "cell_type": "code",
      "metadata": {
        "id": "YNLWvg15Hz56",
        "colab_type": "code",
        "outputId": "718b2914-9ad7-4377-e80d-26c9c3d9f485",
        "colab": {
          "base_uri": "https://localhost:8080/",
          "height": 286
        }
      },
      "source": [
        "plt.plot(g_hist)"
      ],
      "execution_count": 0,
      "outputs": [
        {
          "output_type": "execute_result",
          "data": {
            "text/plain": [
              "[<matplotlib.lines.Line2D at 0x7f07149b8278>]"
            ]
          },
          "metadata": {
            "tags": []
          },
          "execution_count": 96
        },
        {
          "output_type": "display_data",
          "data": {
            "image/png": "[encoded data removed]",
            "text/plain": [
              "<Figure size 432x288 with 1 Axes>"
            ]
          },
          "metadata": {
            "tags": []
          }
        }
      ]
    },
    {
      "cell_type": "code",
      "metadata": {
        "id": "XcNlj-WtJkFs",
        "colab_type": "code",
        "outputId": "e947bffb-530a-4db2-f126-19e568e6eec2",
        "colab": {
          "base_uri": "https://localhost:8080/",
          "height": 286
        }
      },
      "source": [
        "plt.plot(y_hist)"
      ],
      "execution_count": 0,
      "outputs": [
        {
          "output_type": "execute_result",
          "data": {
            "text/plain": [
              "[<matplotlib.lines.Line2D at 0x7f0714998d30>]"
            ]
          },
          "metadata": {
            "tags": []
          },
          "execution_count": 97
        },
        {
          "output_type": "display_data",
          "data": {
            "image/png": "[encoded data removed]",
            "text/plain": [
              "<Figure size 432x288 with 1 Axes>"
            ]
          },
          "metadata": {
            "tags": []
          }
        }
      ]
    },
    {
      "cell_type": "code",
      "metadata": {
        "id": "ccIR3_7MJt51",
        "colab_type": "code",
        "outputId": "a31ee4a1-19e0-4dba-a9be-6e69a85f91ad",
        "colab": {
          "base_uri": "https://localhost:8080/",
          "height": 286
        }
      },
      "source": [
        "plt.plot(g_hist)"
      ],
      "execution_count": 0,
      "outputs": [
        {
          "output_type": "execute_result",
          "data": {
            "text/plain": [
              "[<matplotlib.lines.Line2D at 0x7f0714cd0ac8>]"
            ]
          },
          "metadata": {
            "tags": []
          },
          "execution_count": 105
        },
        {
          "output_type": "display_data",
          "data": {
            "image/png": "[encoded data removed]",
            "text/plain": [
              "<Figure size 432x288 with 1 Axes>"
            ]
          },
          "metadata": {
            "tags": []
          }
        }
      ]
    },
    {
      "cell_type": "code",
      "metadata": {
        "id": "5tH0YJYJJ2et",
        "colab_type": "code",
        "colab": {}
      },
      "source": [
        "v1 = tf.Variable(2.0)\n",
        "v2 = tf.Variable(tf.ones(4))"
      ],
      "execution_count": 0,
      "outputs": []
    },
    {
      "cell_type": "code",
      "metadata": {
        "id": "KJ83aG0rJyzE",
        "colab_type": "code",
        "outputId": "cb679510-a79a-4d19-efb4-95b1d93ba3ec",
        "colab": {
          "base_uri": "https://localhost:8080/",
          "height": 34
        }
      },
      "source": [
        "with tf.GradientTape() as tape:\n",
        "  y =  v1 + tf.reduce_sum(tf.sqrt(v2))\n",
        "  print('The value of Y is ',y)"
      ],
      "execution_count": 0,
      "outputs": [
        {
          "output_type": "stream",
          "text": [
            "The value of Y is  tf.Tensor(6.0, shape=(), dtype=float32)\n"
          ],
          "name": "stdout"
        }
      ]
    },
    {
      "cell_type": "code",
      "metadata": {
        "id": "Wqb1YNMtYpk9",
        "colab_type": "code",
        "outputId": "988db939-4998-4155-ab5a-59b50d5b8780",
        "colab": {
          "base_uri": "https://localhost:8080/",
          "height": 34
        }
      },
      "source": [
        "tf.reduce_sum(tf.sqrt(v2))"
      ],
      "execution_count": 0,
      "outputs": [
        {
          "output_type": "execute_result",
          "data": {
            "text/plain": [
              "<tf.Tensor: id=12503, shape=(), dtype=float32, numpy=4.0>"
            ]
          },
          "metadata": {
            "tags": []
          },
          "execution_count": 172
        }
      ]
    },
    {
      "cell_type": "code",
      "metadata": {
        "id": "jhWTLCV9KK66",
        "colab_type": "code",
        "outputId": "fff56f5c-b5f3-4b13-8c22-ddfa6116df22",
        "colab": {
          "base_uri": "https://localhost:8080/",
          "height": 50
        }
      },
      "source": [
        "g_v = tape.gradient(y,[v1,v2])\n",
        "g_v"
      ],
      "execution_count": 0,
      "outputs": [
        {
          "output_type": "execute_result",
          "data": {
            "text/plain": [
              "[<tf.Tensor: id=6710, shape=(), dtype=float32, numpy=1.0>,\n",
              " <tf.Tensor: id=6715, shape=(4,), dtype=float32, numpy=array([0.5, 0.5, 0.5, 0.5], dtype=float32)>]"
            ]
          },
          "metadata": {
            "tags": []
          },
          "execution_count": 104
        }
      ]
    },
    {
      "cell_type": "code",
      "metadata": {
        "id": "BKHDedkLKhAD",
        "colab_type": "code",
        "colab": {}
      },
      "source": [
        "use_sqrt = True\n",
        "with tf.GradientTape() as tape:\n",
        "  if use_sqrt:\n",
        "    y =  v1 + tf.reduce_sum(tf.sqrt(v2))\n",
        "  else:\n",
        "      y =v1 + tf.reduce_sum(v2)"
      ],
      "execution_count": 0,
      "outputs": []
    },
    {
      "cell_type": "code",
      "metadata": {
        "id": "F14MKbhnLhna",
        "colab_type": "code",
        "colab": {}
      },
      "source": [
        "with tf.GradientTape() as outer_tape:\n",
        "  with tf.GradientTape() as tape:\n",
        "    y = tf.reduce_sum(tf.sqrt(v2))\n",
        "  grad = tape.gradient(y,v2)\n",
        "gradgrad = outer_tape.gradient(grad, v2)"
      ],
      "execution_count": 0,
      "outputs": []
    },
    {
      "cell_type": "code",
      "metadata": {
        "id": "-UKccB3PM-w2",
        "colab_type": "code",
        "outputId": "22307a64-6e70-47a3-8fbf-1a1809df8d93",
        "colab": {
          "base_uri": "https://localhost:8080/",
          "height": 34
        }
      },
      "source": [
        "gradgrad"
      ],
      "execution_count": 0,
      "outputs": [
        {
          "output_type": "execute_result",
          "data": {
            "text/plain": [
              "<tf.Tensor: id=6739, shape=(4,), dtype=float32, numpy=array([-0.25, -0.25, -0.25, -0.25], dtype=float32)>"
            ]
          },
          "metadata": {
            "tags": []
          },
          "execution_count": 111
        }
      ]
    },
    {
      "cell_type": "code",
      "metadata": {
        "id": "2CbKKLRXNCD9",
        "colab_type": "code",
        "colab": {}
      },
      "source": [
        ""
      ],
      "execution_count": 0,
      "outputs": []
    }
  ]
}